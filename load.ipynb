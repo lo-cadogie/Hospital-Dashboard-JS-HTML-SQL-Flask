{
 "cells": [
  {
   "cell_type": "code",
   "execution_count": 2,
   "metadata": {},
   "outputs": [],
   "source": [
    "# Imports\n",
    "\n",
    "import pandas as pd\n",
    "from sqlalchemy import create_engine\n"
   ]
  },
  {
   "cell_type": "code",
   "execution_count": null,
   "metadata": {},
   "outputs": [],
   "source": [
    "# Upload data for admit_details and convert to pandas dataframe\n",
    "\n",
    "admit_file = 'Resources/NAMEOFFILE.csv'\n",
    "\n",
    "admit_details_df = pd.read_csv(admit_file, na_filter = True, na_values = '[]')\n"
   ]
  },
  {
   "cell_type": "code",
   "execution_count": null,
   "metadata": {},
   "outputs": [],
   "source": [
    "# Upload data for hospitals and convert to pandas dataframe\n",
    "\n",
    "hospital_file = 'Resources/NAMEOFFILE.csv'\n",
    "\n",
    "hospitals_df = pd.read_csv(hospital_file, na_filter = True, na_values = '[]')"
   ]
  },
  {
   "cell_type": "code",
   "execution_count": null,
   "metadata": {},
   "outputs": [],
   "source": [
    "# connect to local database\n",
    "\n",
    "protocol = 'postgresql'\n",
    "username = '<username>'\n",
    "password = '<password>'\n",
    "host = 'localhost'\n",
    "port = 5432\n",
    "database_name = 'Hospital Boarding'\n",
    "connection_string = f'{protocol}://{username}:{password}@{host}:{port}/{database_name}'\n",
    "\n",
    "\n",
    "engine = create_engine(connection_string)"
   ]
  },
  {
   "cell_type": "code",
   "execution_count": null,
   "metadata": {},
   "outputs": [],
   "source": [
    "# Preview table names\n",
    "\n",
    "engine.table_names()"
   ]
  },
  {
   "cell_type": "code",
   "execution_count": null,
   "metadata": {},
   "outputs": [],
   "source": [
    "# Use pandas to load DataFrame into database\n",
    "\n",
    "hospitals_df.to_sql('hospitals', con=engine, if_exists='append', index=False)\n",
    "admit_details_df.to_sql('admit_details', con=engine, if_exists='append', index=False)\n"
   ]
  }
 ],
 "metadata": {
  "kernelspec": {
   "display_name": "PythonDataOne",
   "language": "python",
   "name": "python3"
  },
  "language_info": {
   "codemirror_mode": {
    "name": "ipython",
    "version": 3
   },
   "file_extension": ".py",
   "mimetype": "text/x-python",
   "name": "python",
   "nbconvert_exporter": "python",
   "pygments_lexer": "ipython3",
   "version": "3.7.7"
  },
  "orig_nbformat": 4,
  "vscode": {
   "interpreter": {
    "hash": "ffeadad9e6503ab0a318729a49619af2b1f0e62908a55aa7b893bc580c5c8ce1"
   }
  }
 },
 "nbformat": 4,
 "nbformat_minor": 2
}
