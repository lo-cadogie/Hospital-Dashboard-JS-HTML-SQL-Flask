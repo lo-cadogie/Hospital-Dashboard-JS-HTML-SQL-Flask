{
 "cells": [
  {
   "cell_type": "code",
   "execution_count": 12,
   "metadata": {},
   "outputs": [],
   "source": [
    "# Imports\n",
    "import pandas as pd\n",
    "from sqlalchemy import create_engine"
   ]
  },
  {
   "cell_type": "code",
   "execution_count": 13,
   "metadata": {},
   "outputs": [
    {
     "data": {
      "text/html": [
       "<div>\n",
       "<style scoped>\n",
       "    .dataframe tbody tr th:only-of-type {\n",
       "        vertical-align: middle;\n",
       "    }\n",
       "\n",
       "    .dataframe tbody tr th {\n",
       "        vertical-align: top;\n",
       "    }\n",
       "\n",
       "    .dataframe thead th {\n",
       "        text-align: right;\n",
       "    }\n",
       "</style>\n",
       "<table border=\"1\" class=\"dataframe\">\n",
       "  <thead>\n",
       "    <tr style=\"text-align: right;\">\n",
       "      <th></th>\n",
       "      <th>hospital_code</th>\n",
       "      <th>date</th>\n",
       "      <th>Disposition</th>\n",
       "      <th>decision_to_discharge_time</th>\n",
       "    </tr>\n",
       "  </thead>\n",
       "  <tbody>\n",
       "    <tr>\n",
       "      <th>0</th>\n",
       "      <td>A</td>\n",
       "      <td>1/1/2021</td>\n",
       "      <td>Admitted</td>\n",
       "      <td>54.0</td>\n",
       "    </tr>\n",
       "    <tr>\n",
       "      <th>1</th>\n",
       "      <td>A</td>\n",
       "      <td>1/1/2021</td>\n",
       "      <td>Admitted</td>\n",
       "      <td>51.0</td>\n",
       "    </tr>\n",
       "    <tr>\n",
       "      <th>2</th>\n",
       "      <td>A</td>\n",
       "      <td>1/1/2021</td>\n",
       "      <td>Admitted</td>\n",
       "      <td>69.0</td>\n",
       "    </tr>\n",
       "    <tr>\n",
       "      <th>3</th>\n",
       "      <td>A</td>\n",
       "      <td>1/1/2021</td>\n",
       "      <td>Admit Obs</td>\n",
       "      <td>112.0</td>\n",
       "    </tr>\n",
       "    <tr>\n",
       "      <th>4</th>\n",
       "      <td>A</td>\n",
       "      <td>1/1/2021</td>\n",
       "      <td>Admitted</td>\n",
       "      <td>122.0</td>\n",
       "    </tr>\n",
       "  </tbody>\n",
       "</table>\n",
       "</div>"
      ],
      "text/plain": [
       "  hospital_code      date Disposition  decision_to_discharge_time\n",
       "0             A  1/1/2021    Admitted                        54.0\n",
       "1             A  1/1/2021    Admitted                        51.0\n",
       "2             A  1/1/2021    Admitted                        69.0\n",
       "3             A  1/1/2021   Admit Obs                       112.0\n",
       "4             A  1/1/2021    Admitted                       122.0"
      ]
     },
     "execution_count": 13,
     "metadata": {},
     "output_type": "execute_result"
    }
   ],
   "source": [
    "# Upload data for admit_details and convert to pandas dataframe\n",
    "\n",
    "admit_file = 'data/full_hospital_detail.csv'\n",
    "\n",
    "admit_details_df = pd.read_csv(admit_file, na_filter = True, na_values = '[]')\n",
    "admit_details_df.rename(columns = {'Location': 'hospital_code', 'DOS' : 'date', 'Decision to Discharge Time (min)':'decision_to_discharge_time'}, inplace = True)\n",
    "\n",
    "admit_details_df.head()"
   ]
  },
  {
   "cell_type": "code",
   "execution_count": 14,
   "metadata": {},
   "outputs": [
    {
     "data": {
      "text/html": [
       "<div>\n",
       "<style scoped>\n",
       "    .dataframe tbody tr th:only-of-type {\n",
       "        vertical-align: middle;\n",
       "    }\n",
       "\n",
       "    .dataframe tbody tr th {\n",
       "        vertical-align: top;\n",
       "    }\n",
       "\n",
       "    .dataframe thead th {\n",
       "        text-align: right;\n",
       "    }\n",
       "</style>\n",
       "<table border=\"1\" class=\"dataframe\">\n",
       "  <thead>\n",
       "    <tr style=\"text-align: right;\">\n",
       "      <th></th>\n",
       "      <th>hospital_code</th>\n",
       "      <th>City</th>\n",
       "      <th>Latitude</th>\n",
       "      <th>Longitude</th>\n",
       "    </tr>\n",
       "  </thead>\n",
       "  <tbody>\n",
       "    <tr>\n",
       "      <th>0</th>\n",
       "      <td>A</td>\n",
       "      <td>Bemidji</td>\n",
       "      <td>47.478542</td>\n",
       "      <td>-94.890787</td>\n",
       "    </tr>\n",
       "    <tr>\n",
       "      <th>1</th>\n",
       "      <td>B</td>\n",
       "      <td>Warroad</td>\n",
       "      <td>48.905266</td>\n",
       "      <td>-95.314404</td>\n",
       "    </tr>\n",
       "    <tr>\n",
       "      <th>2</th>\n",
       "      <td>C</td>\n",
       "      <td>Mora</td>\n",
       "      <td>45.876903</td>\n",
       "      <td>-93.293835</td>\n",
       "    </tr>\n",
       "    <tr>\n",
       "      <th>3</th>\n",
       "      <td>D</td>\n",
       "      <td>Saint Paul</td>\n",
       "      <td>44.949749</td>\n",
       "      <td>-93.093103</td>\n",
       "    </tr>\n",
       "    <tr>\n",
       "      <th>4</th>\n",
       "      <td>E</td>\n",
       "      <td>Minneapolis</td>\n",
       "      <td>44.977300</td>\n",
       "      <td>-93.265469</td>\n",
       "    </tr>\n",
       "  </tbody>\n",
       "</table>\n",
       "</div>"
      ],
      "text/plain": [
       "  hospital_code         City   Latitude  Longitude\n",
       "0             A      Bemidji  47.478542 -94.890787\n",
       "1             B      Warroad  48.905266 -95.314404\n",
       "2             C         Mora  45.876903 -93.293835\n",
       "3             D   Saint Paul  44.949749 -93.093103\n",
       "4             E  Minneapolis  44.977300 -93.265469"
      ]
     },
     "execution_count": 14,
     "metadata": {},
     "output_type": "execute_result"
    }
   ],
   "source": [
    "# Upload data for hospitals and convert to pandas dataframe\n",
    "\n",
    "hospital_file = 'data/hospitals.csv'\n",
    "\n",
    "hospitals_df = pd.read_csv(hospital_file, na_filter = True, na_values = '[]')\n",
    "hospitals_df = hospitals_df[['Hospital', 'City', 'Latitude', 'Longitude']]\n",
    "hospitals_df.rename(columns = {'Hospital': 'hospital_code'}, inplace = True)\n",
    "\n",
    "\n",
    "hospitals_df.head()\n"
   ]
  },
  {
   "cell_type": "code",
   "execution_count": 15,
   "metadata": {},
   "outputs": [
    {
     "name": "stdout",
     "output_type": "stream",
     "text": [
      "Opened database successfully\n"
     ]
    }
   ],
   "source": [
    "## Updading the code to be SQLite\n",
    "import sqlite3\n",
    "\n",
    "engine = create_engine(\"sqlite:///Hospital_Boarding.sqlite\")\n",
    "conn = sqlite3.connect('Hospital_Boarding.sqlite')\n",
    "#\"sqlite:///Hospital_Boarding.db\"\n",
    "\n",
    "print(\"Opened database successfully\")\n"
   ]
  },
  {
   "cell_type": "code",
   "execution_count": 16,
   "metadata": {},
   "outputs": [
    {
     "name": "stdout",
     "output_type": "stream",
     "text": [
      "Table created successfully\n"
     ]
    }
   ],
   "source": [
    "\n",
    "c = conn.cursor()\n",
    "\n",
    "c.execute('''DROP TABLE IF EXISTS hospitals''')\n",
    "\n",
    "c.execute('''CREATE TABLE hospitals(\n",
    "    hospital_code CHAR(1) PRIMARY KEY  NOT NULL,\n",
    "    City VARCHAR   NOT NULL,\n",
    "    Latitude DECIMAL   NOT NULL,\n",
    "    Longitude DECIMAL   NOT NULL)\n",
    "    '''\n",
    ")\n",
    "\n",
    "c.execute('''DROP TABLE IF EXISTS admit_details''')\n",
    "\n",
    "c.execute('''CREATE TABLE admit_details (\n",
    "    record_id INTEGER PRIMARY KEY   NOT NULL,\n",
    "    hospital_code CHAR(1)   NOT NULL,\n",
    "    date VARCHAR   NOT NULL,\n",
    "    disposition VARCHAR   NOT NULL,\n",
    "    decision_to_discharge_time INTEGER\n",
    "     )'''\n",
    ")\n",
    "\n",
    "# c.execute('''ALTER TABLE admit_details ADD CONSTRAINT fk_admit_details_hospital_code FOREIGN KEY(hospital_code)\n",
    "# REFERENCES hospitals (hospital_code)'''\n",
    "# )\n",
    "\n",
    "print(\"Table created successfully\")\n",
    "\n",
    "#conn.commit()\n",
    "\n",
    "#conn.close()"
   ]
  },
  {
   "cell_type": "code",
   "execution_count": 17,
   "metadata": {},
   "outputs": [
    {
     "name": "stdout",
     "output_type": "stream",
     "text": [
      "(('hospital_code', None, None, None, None, None, None), ('City', None, None, None, None, None, None), ('Latitude', None, None, None, None, None, None), ('Longitude', None, None, None, None, None, None))\n"
     ]
    }
   ],
   "source": [
    "data=c.execute('''SELECT * FROM hospitals''')\n",
    "print(data.description)"
   ]
  },
  {
   "cell_type": "code",
   "execution_count": 18,
   "metadata": {},
   "outputs": [
    {
     "name": "stdout",
     "output_type": "stream",
     "text": [
      "(('record_id', None, None, None, None, None, None), ('hospital_code', None, None, None, None, None, None), ('date', None, None, None, None, None, None), ('disposition', None, None, None, None, None, None), ('decision_to_discharge_time', None, None, None, None, None, None))\n"
     ]
    }
   ],
   "source": [
    "data2=c.execute('''SELECT * FROM admit_details''')\n",
    "print(data2.description)"
   ]
  },
  {
   "cell_type": "code",
   "execution_count": 19,
   "metadata": {},
   "outputs": [],
   "source": [
    "# connect to local database\n",
    "\n",
    "# protocol = 'postgresql'\n",
    "# username = '<username>'\n",
    "# password = '<password>'\n",
    "# host = 'localhost'\n",
    "# port = 5432\n",
    "# database_name = 'Hospital_Boarding'\n",
    "# connection_string = f'{protocol}://{username}:{password}@{host}:{port}/{database_name}'\n",
    "\n",
    "\n",
    "#engine = create_engine(connection_string)"
   ]
  },
  {
   "cell_type": "code",
   "execution_count": 20,
   "metadata": {},
   "outputs": [],
   "source": [
    "# # Preview table names\n",
    "\n",
    "# engine.table_names()"
   ]
  },
  {
   "cell_type": "code",
   "execution_count": 21,
   "metadata": {},
   "outputs": [],
   "source": [
    "# Use pandas to load DataFrame into database\n",
    "\n",
    "hospitals_df.to_sql('hospitals', con=engine, if_exists='append', index=False)\n",
    "admit_details_df.to_sql('admit_details', con=engine, if_exists='append', index=False)\n"
   ]
  },
  {
   "cell_type": "code",
   "execution_count": 22,
   "metadata": {},
   "outputs": [],
   "source": [
    "#  Close the coonection\n",
    "conn.close()"
   ]
  }
 ],
 "metadata": {
  "kernelspec": {
   "display_name": "PythonDataOne",
   "language": "python",
   "name": "python3"
  },
  "language_info": {
   "codemirror_mode": {
    "name": "ipython",
    "version": 3
   },
   "file_extension": ".py",
   "mimetype": "text/x-python",
   "name": "python",
   "nbconvert_exporter": "python",
   "pygments_lexer": "ipython3",
   "version": "3.7.7 (default, May  6 2020, 11:45:54) [MSC v.1916 64 bit (AMD64)]"
  },
  "orig_nbformat": 4,
  "vscode": {
   "interpreter": {
    "hash": "73c84dcd92d024433e7b71ef95d9279dabf00edfda2d7f6915a13d74f7e2227c"
   }
  }
 },
 "nbformat": 4,
 "nbformat_minor": 2
}
