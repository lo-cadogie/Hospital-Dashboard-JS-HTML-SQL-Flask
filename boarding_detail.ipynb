{
 "cells": [
  {
   "cell_type": "code",
   "execution_count": 12,
   "metadata": {},
   "outputs": [],
   "source": [
    "# Add in dependencies\n",
    "import pandas as pd\n",
    "import numpy as np"
   ]
  },
  {
   "cell_type": "code",
   "execution_count": 13,
   "metadata": {},
   "outputs": [],
   "source": [
    "# Save path to data set \n",
    "# Input the BY YEAR MONTH file\n",
    "full_data = \"data/full_hospital_detail.csv\""
   ]
  },
  {
   "cell_type": "code",
   "execution_count": 14,
   "metadata": {},
   "outputs": [
    {
     "data": {
      "text/html": [
       "<div>\n",
       "<style scoped>\n",
       "    .dataframe tbody tr th:only-of-type {\n",
       "        vertical-align: middle;\n",
       "    }\n",
       "\n",
       "    .dataframe tbody tr th {\n",
       "        vertical-align: top;\n",
       "    }\n",
       "\n",
       "    .dataframe thead th {\n",
       "        text-align: right;\n",
       "    }\n",
       "</style>\n",
       "<table border=\"1\" class=\"dataframe\">\n",
       "  <thead>\n",
       "    <tr style=\"text-align: right;\">\n",
       "      <th></th>\n",
       "      <th>Location</th>\n",
       "      <th>DOS</th>\n",
       "      <th>Disposition</th>\n",
       "      <th>Decision to Discharge Time (min)</th>\n",
       "    </tr>\n",
       "  </thead>\n",
       "  <tbody>\n",
       "    <tr>\n",
       "      <th>0</th>\n",
       "      <td>A</td>\n",
       "      <td>1/1/2021</td>\n",
       "      <td>Admitted</td>\n",
       "      <td>54.0</td>\n",
       "    </tr>\n",
       "    <tr>\n",
       "      <th>1</th>\n",
       "      <td>A</td>\n",
       "      <td>1/1/2021</td>\n",
       "      <td>Admitted</td>\n",
       "      <td>51.0</td>\n",
       "    </tr>\n",
       "    <tr>\n",
       "      <th>2</th>\n",
       "      <td>A</td>\n",
       "      <td>1/1/2021</td>\n",
       "      <td>Admitted</td>\n",
       "      <td>69.0</td>\n",
       "    </tr>\n",
       "    <tr>\n",
       "      <th>3</th>\n",
       "      <td>A</td>\n",
       "      <td>1/1/2021</td>\n",
       "      <td>Admit Obs</td>\n",
       "      <td>112.0</td>\n",
       "    </tr>\n",
       "    <tr>\n",
       "      <th>4</th>\n",
       "      <td>A</td>\n",
       "      <td>1/1/2021</td>\n",
       "      <td>Admitted</td>\n",
       "      <td>122.0</td>\n",
       "    </tr>\n",
       "  </tbody>\n",
       "</table>\n",
       "</div>"
      ],
      "text/plain": [
       "  Location       DOS Disposition  Decision to Discharge Time (min)\n",
       "0        A  1/1/2021    Admitted                              54.0\n",
       "1        A  1/1/2021    Admitted                              51.0\n",
       "2        A  1/1/2021    Admitted                              69.0\n",
       "3        A  1/1/2021   Admit Obs                             112.0\n",
       "4        A  1/1/2021    Admitted                             122.0"
      ]
     },
     "execution_count": 14,
     "metadata": {},
     "output_type": "execute_result"
    }
   ],
   "source": [
    "# Read in data set\n",
    "full_data = pd.read_csv(full_data)\n",
    "full_data.head()"
   ]
  },
  {
   "cell_type": "code",
   "execution_count": 15,
   "metadata": {},
   "outputs": [
    {
     "data": {
      "text/html": [
       "<div>\n",
       "<style scoped>\n",
       "    .dataframe tbody tr th:only-of-type {\n",
       "        vertical-align: middle;\n",
       "    }\n",
       "\n",
       "    .dataframe tbody tr th {\n",
       "        vertical-align: top;\n",
       "    }\n",
       "\n",
       "    .dataframe thead th {\n",
       "        text-align: right;\n",
       "    }\n",
       "</style>\n",
       "<table border=\"1\" class=\"dataframe\">\n",
       "  <thead>\n",
       "    <tr style=\"text-align: right;\">\n",
       "      <th></th>\n",
       "      <th>Location</th>\n",
       "      <th>DOS</th>\n",
       "      <th>Disposition</th>\n",
       "      <th>Decision to Discharge Time (min)</th>\n",
       "    </tr>\n",
       "  </thead>\n",
       "  <tbody>\n",
       "    <tr>\n",
       "      <th>0</th>\n",
       "      <td>A</td>\n",
       "      <td>1/1/2021</td>\n",
       "      <td>Admitted</td>\n",
       "      <td>54.0</td>\n",
       "    </tr>\n",
       "    <tr>\n",
       "      <th>1</th>\n",
       "      <td>A</td>\n",
       "      <td>1/1/2021</td>\n",
       "      <td>Admitted</td>\n",
       "      <td>51.0</td>\n",
       "    </tr>\n",
       "    <tr>\n",
       "      <th>2</th>\n",
       "      <td>A</td>\n",
       "      <td>1/1/2021</td>\n",
       "      <td>Admitted</td>\n",
       "      <td>69.0</td>\n",
       "    </tr>\n",
       "    <tr>\n",
       "      <th>3</th>\n",
       "      <td>A</td>\n",
       "      <td>1/1/2021</td>\n",
       "      <td>Admit Obs</td>\n",
       "      <td>112.0</td>\n",
       "    </tr>\n",
       "    <tr>\n",
       "      <th>4</th>\n",
       "      <td>A</td>\n",
       "      <td>1/1/2021</td>\n",
       "      <td>Admitted</td>\n",
       "      <td>122.0</td>\n",
       "    </tr>\n",
       "  </tbody>\n",
       "</table>\n",
       "</div>"
      ],
      "text/plain": [
       "  Location       DOS Disposition  Decision to Discharge Time (min)\n",
       "0        A  1/1/2021    Admitted                              54.0\n",
       "1        A  1/1/2021    Admitted                              51.0\n",
       "2        A  1/1/2021    Admitted                              69.0\n",
       "3        A  1/1/2021   Admit Obs                             112.0\n",
       "4        A  1/1/2021    Admitted                             122.0"
      ]
     },
     "execution_count": 15,
     "metadata": {},
     "output_type": "execute_result"
    }
   ],
   "source": [
    "# Convert the NaNs into 0s\n",
    "full_data.fillna(0, inplace=True)\n",
    "full_data.head()"
   ]
  },
  {
   "cell_type": "code",
   "execution_count": 24,
   "metadata": {},
   "outputs": [
    {
     "data": {
      "text/html": [
       "<div>\n",
       "<style scoped>\n",
       "    .dataframe tbody tr th:only-of-type {\n",
       "        vertical-align: middle;\n",
       "    }\n",
       "\n",
       "    .dataframe tbody tr th {\n",
       "        vertical-align: top;\n",
       "    }\n",
       "\n",
       "    .dataframe thead th {\n",
       "        text-align: right;\n",
       "    }\n",
       "</style>\n",
       "<table border=\"1\" class=\"dataframe\">\n",
       "  <thead>\n",
       "    <tr style=\"text-align: right;\">\n",
       "      <th></th>\n",
       "      <th>Location</th>\n",
       "      <th>DOS</th>\n",
       "      <th>Disposition</th>\n",
       "      <th>Decision to Discharge Time (min)</th>\n",
       "    </tr>\n",
       "  </thead>\n",
       "  <tbody>\n",
       "    <tr>\n",
       "      <th>0</th>\n",
       "      <td>A</td>\n",
       "      <td>1/1/2021</td>\n",
       "      <td>Admitted</td>\n",
       "      <td>54.0</td>\n",
       "    </tr>\n",
       "    <tr>\n",
       "      <th>1</th>\n",
       "      <td>A</td>\n",
       "      <td>1/1/2021</td>\n",
       "      <td>Admitted</td>\n",
       "      <td>51.0</td>\n",
       "    </tr>\n",
       "    <tr>\n",
       "      <th>2</th>\n",
       "      <td>A</td>\n",
       "      <td>1/1/2021</td>\n",
       "      <td>Admitted</td>\n",
       "      <td>69.0</td>\n",
       "    </tr>\n",
       "    <tr>\n",
       "      <th>3</th>\n",
       "      <td>A</td>\n",
       "      <td>1/1/2021</td>\n",
       "      <td>Admit Obs</td>\n",
       "      <td>112.0</td>\n",
       "    </tr>\n",
       "    <tr>\n",
       "      <th>4</th>\n",
       "      <td>A</td>\n",
       "      <td>1/1/2021</td>\n",
       "      <td>Admitted</td>\n",
       "      <td>122.0</td>\n",
       "    </tr>\n",
       "  </tbody>\n",
       "</table>\n",
       "</div>"
      ],
      "text/plain": [
       "  Location       DOS Disposition  Decision to Discharge Time (min)\n",
       "0        A  1/1/2021    Admitted                              54.0\n",
       "1        A  1/1/2021    Admitted                              51.0\n",
       "2        A  1/1/2021    Admitted                              69.0\n",
       "3        A  1/1/2021   Admit Obs                             112.0\n",
       "4        A  1/1/2021    Admitted                             122.0"
      ]
     },
     "execution_count": 24,
     "metadata": {},
     "output_type": "execute_result"
    }
   ],
   "source": [
    "# Droping incomplete data for the decision to dicharge column\n",
    "full_data.dropna(axis=0, subset=['Decision to Discharge Time (min)'], how='all', inplace=True)\n",
    "full_data.head()"
   ]
  },
  {
   "cell_type": "code",
   "execution_count": 20,
   "metadata": {},
   "outputs": [
    {
     "data": {
      "text/plain": [
       "Location                            247681\n",
       "DOS                                 247681\n",
       "Disposition                         247681\n",
       "Decision to Discharge Time (min)    247681\n",
       "dtype: int64"
      ]
     },
     "execution_count": 20,
     "metadata": {},
     "output_type": "execute_result"
    }
   ],
   "source": [
    "full_data.count()"
   ]
  },
  {
   "attachments": {},
   "cell_type": "markdown",
   "metadata": {},
   "source": [
    "# Items we don't need\n",
    "extra code when looking at actual files, can disregard most of this. kept it just in case for thje time being. "
   ]
  },
  {
   "cell_type": "code",
   "execution_count": null,
   "metadata": {},
   "outputs": [],
   "source": [
    "# Add in new column to add boarding totals\n",
    "#monthly_data[\"Boarding Pts\"] = monthly_data['4-6 Hours'] + monthly_data['6-8 Hours'] + monthly_data['8-10 Hours'] + monthly_data['10-12 Hours'] + monthly_data['12-24 Hours'] + monthly_data['24-36 Hours'] + monthly_data['36-48 Hours'] + monthly_data['> 48 Hours']\n",
    "#monthly_data.head()"
   ]
  },
  {
   "cell_type": "code",
   "execution_count": null,
   "metadata": {},
   "outputs": [],
   "source": [
    "#monthly_data[\"% Admits Boarding\"] = monthly_data['Boarding Pts'] / monthly_data['Total Admitted Pts'] * 100\n",
    "m#onthly_data.head()"
   ]
  },
  {
   "cell_type": "code",
   "execution_count": null,
   "metadata": {},
   "outputs": [],
   "source": [
    "#Boarding Table\n",
    "#boarding = monthly_data\n",
    "#boarding = boarding[['Year and Month of Service', 'Boarding Pts', '% Admits Boarding']]\n",
    "#boarding"
   ]
  },
  {
   "cell_type": "code",
   "execution_count": null,
   "metadata": {},
   "outputs": [],
   "source": [
    "# Save path to data set \n",
    "#Input the DETAIL file\n",
    "#data2_file = \"Boarding_Cambridge/CambridgeDetail.csv\""
   ]
  },
  {
   "cell_type": "code",
   "execution_count": null,
   "metadata": {},
   "outputs": [],
   "source": [
    "# Read in data set\n",
    "#full_detail_data = pd.read_csv(data2_file)\n",
    "#full_detail_data.head()"
   ]
  },
  {
   "cell_type": "code",
   "execution_count": null,
   "metadata": {},
   "outputs": [],
   "source": [
    "# Droping incomplete data for the decision to dicharge column\n",
    "full_detail_data.dropna(axis=0, subset=['Decision to Discharge Time (min)'], how='all', inplace=True)\n",
    "full_detail_data.head()"
   ]
  },
  {
   "cell_type": "code",
   "execution_count": null,
   "metadata": {},
   "outputs": [],
   "source": [
    "# Drop 2-4 Hour column as we don't recognize that as boarding\n",
    "monthly_data.drop(monthly_data.columns[3], axis=1, inplace=True)\n",
    "monthly_data.drop(monthly_data.columns[1], axis=1, inplace=True)\n",
    "monthly_data.head()"
   ]
  }
 ],
 "metadata": {
  "kernelspec": {
   "display_name": "PythonDataOne",
   "language": "python",
   "name": "python3"
  },
  "language_info": {
   "codemirror_mode": {
    "name": "ipython",
    "version": 3
   },
   "file_extension": ".py",
   "mimetype": "text/x-python",
   "name": "python",
   "nbconvert_exporter": "python",
   "pygments_lexer": "ipython3",
   "version": "3.7.7 (default, May  6 2020, 11:45:54) [MSC v.1916 64 bit (AMD64)]"
  },
  "orig_nbformat": 4,
  "vscode": {
   "interpreter": {
    "hash": "9f53271ab92b22f5aef0bd94072cc24be0104b1915e9f15da75bc398cb79cb55"
   }
  }
 },
 "nbformat": 4,
 "nbformat_minor": 2
}
