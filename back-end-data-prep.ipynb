{
 "cells": [
  {
   "cell_type": "code",
   "execution_count": 45,
   "metadata": {},
   "outputs": [],
   "source": [
    "# Import Dependencies\n",
    "import pandas as pd\n",
    "from datetime import datetime as dt\n",
    "import sqlalchemy\n",
    "from sqlalchemy import create_engine, func\n",
    "import sqlite3"
   ]
  },
  {
   "cell_type": "code",
   "execution_count": 46,
   "metadata": {},
   "outputs": [],
   "source": [
    "# create engine to Hospital_Boarding.sqlite\n",
    "engine = create_engine(\"sqlite:///Hospital_Boarding.sqlite\")\n",
    "conn = sqlite3.connect('Hospital_Boarding.sqlite')"
   ]
  },
  {
   "cell_type": "code",
   "execution_count": 47,
   "metadata": {},
   "outputs": [
    {
     "data": {
      "text/html": [
       "<div>\n",
       "<style scoped>\n",
       "    .dataframe tbody tr th:only-of-type {\n",
       "        vertical-align: middle;\n",
       "    }\n",
       "\n",
       "    .dataframe tbody tr th {\n",
       "        vertical-align: top;\n",
       "    }\n",
       "\n",
       "    .dataframe thead th {\n",
       "        text-align: right;\n",
       "    }\n",
       "</style>\n",
       "<table border=\"1\" class=\"dataframe\">\n",
       "  <thead>\n",
       "    <tr style=\"text-align: right;\">\n",
       "      <th></th>\n",
       "      <th>hospital_code</th>\n",
       "      <th>year</th>\n",
       "      <th>year_month</th>\n",
       "      <th>date</th>\n",
       "      <th>disposition</th>\n",
       "      <th>decision_to_discharge_time</th>\n",
       "    </tr>\n",
       "  </thead>\n",
       "  <tbody>\n",
       "    <tr>\n",
       "      <th>0</th>\n",
       "      <td>A</td>\n",
       "      <td>2021</td>\n",
       "      <td>2021-01</td>\n",
       "      <td>2021-01-01</td>\n",
       "      <td>Admitted</td>\n",
       "      <td>0.900000</td>\n",
       "    </tr>\n",
       "    <tr>\n",
       "      <th>1</th>\n",
       "      <td>A</td>\n",
       "      <td>2021</td>\n",
       "      <td>2021-01</td>\n",
       "      <td>2021-01-01</td>\n",
       "      <td>Admitted</td>\n",
       "      <td>0.850000</td>\n",
       "    </tr>\n",
       "    <tr>\n",
       "      <th>2</th>\n",
       "      <td>A</td>\n",
       "      <td>2021</td>\n",
       "      <td>2021-01</td>\n",
       "      <td>2021-01-01</td>\n",
       "      <td>Admitted</td>\n",
       "      <td>1.150000</td>\n",
       "    </tr>\n",
       "    <tr>\n",
       "      <th>3</th>\n",
       "      <td>A</td>\n",
       "      <td>2021</td>\n",
       "      <td>2021-01</td>\n",
       "      <td>2021-01-01</td>\n",
       "      <td>Admit Obs</td>\n",
       "      <td>1.866667</td>\n",
       "    </tr>\n",
       "    <tr>\n",
       "      <th>4</th>\n",
       "      <td>A</td>\n",
       "      <td>2021</td>\n",
       "      <td>2021-01</td>\n",
       "      <td>2021-01-01</td>\n",
       "      <td>Admitted</td>\n",
       "      <td>2.033333</td>\n",
       "    </tr>\n",
       "  </tbody>\n",
       "</table>\n",
       "</div>"
      ],
      "text/plain": [
       "  hospital_code  year year_month       date disposition  \\\n",
       "0             A  2021    2021-01 2021-01-01    Admitted   \n",
       "1             A  2021    2021-01 2021-01-01    Admitted   \n",
       "2             A  2021    2021-01 2021-01-01    Admitted   \n",
       "3             A  2021    2021-01 2021-01-01   Admit Obs   \n",
       "4             A  2021    2021-01 2021-01-01    Admitted   \n",
       "\n",
       "   decision_to_discharge_time  \n",
       "0                    0.900000  \n",
       "1                    0.850000  \n",
       "2                    1.150000  \n",
       "3                    1.866667  \n",
       "4                    2.033333  "
      ]
     },
     "execution_count": 47,
     "metadata": {},
     "output_type": "execute_result"
    }
   ],
   "source": [
    "# Create admit_details dataframe be querying all records. Change date to from object to datetime.\n",
    "admit_details_df = pd.read_sql(\"SELECT * FROM admit_details\", conn)\n",
    "admit_details_df['date'] = pd.to_datetime(admit_details_df['date'], format=\"%m/%d/%Y\")\n",
    "\n",
    "# Add columns for year and month for grouping. Change wait time from minutes to hours. Reorder columns\n",
    "admit_details_df['year'] = admit_details_df['date']\n",
    "admit_details_df['year_month'] = admit_details_df['date']\n",
    "admit_details_df['year'] = admit_details_df['year'].dt.strftime('%Y')\n",
    "admit_details_df['year_month'] = admit_details_df['year_month'].dt.strftime('%Y-%m')\n",
    "admit_details_df['decision_to_discharge_time'] = admit_details_df['decision_to_discharge_time']/60\n",
    "admit_details_df = admit_details_df[['hospital_code', 'year', 'year_month', 'date', 'disposition', 'decision_to_discharge_time']]\n",
    "admit_details_df.head()"
   ]
  },
  {
   "cell_type": "code",
   "execution_count": 48,
   "metadata": {},
   "outputs": [],
   "source": [
    "# Create hospitals dataframe from database\n",
    "hospitals_df = pd.read_sql(\"SELECT * FROM hospitals\", conn)"
   ]
  },
  {
   "cell_type": "code",
   "execution_count": 49,
   "metadata": {},
   "outputs": [],
   "source": [
    "# Create data for month-by-month bar chart\n",
    "# Wait time month-by-month for each hospital\n",
    "wait_time_h = admit_details_df.groupby(['hospital_code', 'year_month'])['decision_to_discharge_time'].mean().reset_index()\n",
    "wait_time_h = wait_time_h.rename(columns = {'decision_to_discharge_time':'mean_wait'})"
   ]
  },
  {
   "cell_type": "code",
   "execution_count": 50,
   "metadata": {},
   "outputs": [],
   "source": [
    "# Wait time month-by-month for all hospitals\n",
    "wait_time_a = admit_details_df.groupby(['year_month'])['decision_to_discharge_time'].mean().reset_index()\n",
    "wait_time_a = wait_time_a.rename(columns = {'decision_to_discharge_time':'mean_wait'})\n",
    "wait_time_a['hospital_code'] = 'all'\n",
    "wait_time_a = wait_time_a[['hospital_code', 'year_month', 'mean_wait']]"
   ]
  },
  {
   "cell_type": "code",
   "execution_count": 51,
   "metadata": {},
   "outputs": [
    {
     "data": {
      "text/html": [
       "<div>\n",
       "<style scoped>\n",
       "    .dataframe tbody tr th:only-of-type {\n",
       "        vertical-align: middle;\n",
       "    }\n",
       "\n",
       "    .dataframe tbody tr th {\n",
       "        vertical-align: top;\n",
       "    }\n",
       "\n",
       "    .dataframe thead th {\n",
       "        text-align: right;\n",
       "    }\n",
       "</style>\n",
       "<table border=\"1\" class=\"dataframe\">\n",
       "  <thead>\n",
       "    <tr style=\"text-align: right;\">\n",
       "      <th></th>\n",
       "      <th>hospital_code</th>\n",
       "      <th>year_month</th>\n",
       "      <th>mean_wait</th>\n",
       "      <th>City</th>\n",
       "      <th>Latitude</th>\n",
       "      <th>Longitude</th>\n",
       "    </tr>\n",
       "  </thead>\n",
       "  <tbody>\n",
       "    <tr>\n",
       "      <th>0</th>\n",
       "      <td>A</td>\n",
       "      <td>2021-01</td>\n",
       "      <td>2.173894</td>\n",
       "      <td>Bemidji</td>\n",
       "      <td>47.478542</td>\n",
       "      <td>-94.890787</td>\n",
       "    </tr>\n",
       "    <tr>\n",
       "      <th>1</th>\n",
       "      <td>A</td>\n",
       "      <td>2021-02</td>\n",
       "      <td>1.925018</td>\n",
       "      <td>Bemidji</td>\n",
       "      <td>47.478542</td>\n",
       "      <td>-94.890787</td>\n",
       "    </tr>\n",
       "    <tr>\n",
       "      <th>2</th>\n",
       "      <td>A</td>\n",
       "      <td>2021-03</td>\n",
       "      <td>1.880336</td>\n",
       "      <td>Bemidji</td>\n",
       "      <td>47.478542</td>\n",
       "      <td>-94.890787</td>\n",
       "    </tr>\n",
       "    <tr>\n",
       "      <th>3</th>\n",
       "      <td>A</td>\n",
       "      <td>2021-04</td>\n",
       "      <td>2.578033</td>\n",
       "      <td>Bemidji</td>\n",
       "      <td>47.478542</td>\n",
       "      <td>-94.890787</td>\n",
       "    </tr>\n",
       "    <tr>\n",
       "      <th>4</th>\n",
       "      <td>A</td>\n",
       "      <td>2021-05</td>\n",
       "      <td>2.317561</td>\n",
       "      <td>Bemidji</td>\n",
       "      <td>47.478542</td>\n",
       "      <td>-94.890787</td>\n",
       "    </tr>\n",
       "  </tbody>\n",
       "</table>\n",
       "</div>"
      ],
      "text/plain": [
       "  hospital_code year_month  mean_wait     City   Latitude  Longitude\n",
       "0             A    2021-01   2.173894  Bemidji  47.478542 -94.890787\n",
       "1             A    2021-02   1.925018  Bemidji  47.478542 -94.890787\n",
       "2             A    2021-03   1.880336  Bemidji  47.478542 -94.890787\n",
       "3             A    2021-04   2.578033  Bemidji  47.478542 -94.890787\n",
       "4             A    2021-05   2.317561  Bemidji  47.478542 -94.890787"
      ]
     },
     "execution_count": 51,
     "metadata": {},
     "output_type": "execute_result"
    }
   ],
   "source": [
    "# Concantenate wait time month-by-month dataframes into one dataframe, and merge location data from hospitals\n",
    "wait_time_month = pd.concat([wait_time_h, wait_time_a], axis = 0)\n",
    "wait_time_month_location = pd.merge(wait_time_month, hospitals_df, on='hospital_code', how = 'outer')\n",
    "wait_time_month_location.head()"
   ]
  },
  {
   "cell_type": "code",
   "execution_count": 52,
   "metadata": {},
   "outputs": [],
   "source": [
    "# Create data for month-by-day wait times for each hospital\n",
    "wait_time_day_h = admit_details_df.groupby(['hospital_code', 'year_month', 'date'])['decision_to_discharge_time']\\\n",
    "    .mean().reset_index()\n",
    "wait_time_day_h = wait_time_day_h.rename(columns = {'decision_to_discharge_time':'mean_wait'})"
   ]
  },
  {
   "cell_type": "code",
   "execution_count": 53,
   "metadata": {},
   "outputs": [],
   "source": [
    "# Create data for month-by-day wait times for all hospitals\n",
    "wait_time_day_a = admit_details_df.groupby(['year_month', 'date'])['decision_to_discharge_time'].mean().reset_index()\n",
    "wait_time_day_a = wait_time_day_a.rename(columns = {'decision_to_discharge_time':'mean_wait'})\n",
    "wait_time_day_a['hospital_code'] = 'all'\n",
    "wait_time_day_a = wait_time_day_a[['hospital_code', 'year_month', 'date', 'mean_wait']]"
   ]
  },
  {
   "cell_type": "code",
   "execution_count": 54,
   "metadata": {},
   "outputs": [
    {
     "data": {
      "text/html": [
       "<div>\n",
       "<style scoped>\n",
       "    .dataframe tbody tr th:only-of-type {\n",
       "        vertical-align: middle;\n",
       "    }\n",
       "\n",
       "    .dataframe tbody tr th {\n",
       "        vertical-align: top;\n",
       "    }\n",
       "\n",
       "    .dataframe thead th {\n",
       "        text-align: right;\n",
       "    }\n",
       "</style>\n",
       "<table border=\"1\" class=\"dataframe\">\n",
       "  <thead>\n",
       "    <tr style=\"text-align: right;\">\n",
       "      <th></th>\n",
       "      <th>hospital_code</th>\n",
       "      <th>year_month</th>\n",
       "      <th>date</th>\n",
       "      <th>mean_wait</th>\n",
       "      <th>City</th>\n",
       "      <th>Latitude</th>\n",
       "      <th>Longitude</th>\n",
       "    </tr>\n",
       "  </thead>\n",
       "  <tbody>\n",
       "    <tr>\n",
       "      <th>0</th>\n",
       "      <td>A</td>\n",
       "      <td>2021-01</td>\n",
       "      <td>2021-01-01</td>\n",
       "      <td>1.580208</td>\n",
       "      <td>Bemidji</td>\n",
       "      <td>47.478542</td>\n",
       "      <td>-94.890787</td>\n",
       "    </tr>\n",
       "    <tr>\n",
       "      <th>1</th>\n",
       "      <td>A</td>\n",
       "      <td>2021-01</td>\n",
       "      <td>2021-01-02</td>\n",
       "      <td>1.573333</td>\n",
       "      <td>Bemidji</td>\n",
       "      <td>47.478542</td>\n",
       "      <td>-94.890787</td>\n",
       "    </tr>\n",
       "    <tr>\n",
       "      <th>2</th>\n",
       "      <td>A</td>\n",
       "      <td>2021-01</td>\n",
       "      <td>2021-01-03</td>\n",
       "      <td>2.595652</td>\n",
       "      <td>Bemidji</td>\n",
       "      <td>47.478542</td>\n",
       "      <td>-94.890787</td>\n",
       "    </tr>\n",
       "    <tr>\n",
       "      <th>3</th>\n",
       "      <td>A</td>\n",
       "      <td>2021-01</td>\n",
       "      <td>2021-01-04</td>\n",
       "      <td>1.722727</td>\n",
       "      <td>Bemidji</td>\n",
       "      <td>47.478542</td>\n",
       "      <td>-94.890787</td>\n",
       "    </tr>\n",
       "    <tr>\n",
       "      <th>4</th>\n",
       "      <td>A</td>\n",
       "      <td>2021-01</td>\n",
       "      <td>2021-01-05</td>\n",
       "      <td>2.394253</td>\n",
       "      <td>Bemidji</td>\n",
       "      <td>47.478542</td>\n",
       "      <td>-94.890787</td>\n",
       "    </tr>\n",
       "  </tbody>\n",
       "</table>\n",
       "</div>"
      ],
      "text/plain": [
       "  hospital_code year_month       date  mean_wait     City   Latitude  \\\n",
       "0             A    2021-01 2021-01-01   1.580208  Bemidji  47.478542   \n",
       "1             A    2021-01 2021-01-02   1.573333  Bemidji  47.478542   \n",
       "2             A    2021-01 2021-01-03   2.595652  Bemidji  47.478542   \n",
       "3             A    2021-01 2021-01-04   1.722727  Bemidji  47.478542   \n",
       "4             A    2021-01 2021-01-05   2.394253  Bemidji  47.478542   \n",
       "\n",
       "   Longitude  \n",
       "0 -94.890787  \n",
       "1 -94.890787  \n",
       "2 -94.890787  \n",
       "3 -94.890787  \n",
       "4 -94.890787  "
      ]
     },
     "execution_count": 54,
     "metadata": {},
     "output_type": "execute_result"
    }
   ],
   "source": [
    "# Concantenate wait time month-by-month dataframes into one dataframe for use in JS\n",
    "wait_time_day = pd.concat([wait_time_day_h, wait_time_day_a], axis = 0)\n",
    "wait_time_day_location = pd.merge(wait_time_day, hospitals_df, on='hospital_code', how = 'outer')\n",
    "wait_time_day_location.head()\n"
   ]
  },
  {
   "cell_type": "code",
   "execution_count": 55,
   "metadata": {},
   "outputs": [],
   "source": [
    "# Create data for pie chart\n",
    "# Change Admit Obs to Admitted to simplify later code\n",
    "admit_trans_detail = admit_details_df\n",
    "admit_trans_detail['disposition'] = admit_trans_detail['disposition'].replace({'Admit Obs': \"Admitted\"})"
   ]
  },
  {
   "cell_type": "code",
   "execution_count": 56,
   "metadata": {},
   "outputs": [],
   "source": [
    "# Create dataframe that groups by disposition and format to concantenate to other dataframes\n",
    "disp_all = admit_trans_detail.groupby('disposition')['date'].count().reset_index()\n",
    "disp_all = disp_all.rename(columns = {'date':\"count\"})\n",
    "disp_all['hospital_code'] = 'all'\n",
    "disp_all['year'] = '--'\n",
    "disp_all = disp_all[['hospital_code', 'year', 'disposition', 'count']]"
   ]
  },
  {
   "cell_type": "code",
   "execution_count": 57,
   "metadata": {},
   "outputs": [],
   "source": [
    "# Create dataframe that groups by hospital code and disposition with counts. Format to concantenate\n",
    "disp_h = admit_trans_detail.groupby(['hospital_code','disposition'])['date'].count().reset_index()\n",
    "disp_h = disp_h.rename(columns = {'date':\"count\"})\n",
    "disp_h['year'] = '--'\n",
    "disp_h = disp_h[['hospital_code', 'year', 'disposition', 'count']]"
   ]
  },
  {
   "cell_type": "code",
   "execution_count": 59,
   "metadata": {},
   "outputs": [],
   "source": [
    "# Create dataframe that groups by year for all hospitals and format to concantenate\n",
    "disp_all_y = admit_trans_detail.groupby(['year','disposition'])['date'].count().reset_index()\n",
    "disp_all_y = disp_all_y.rename(columns = {'date':\"count\"})\n",
    "disp_all_y['hospital_code'] = 'all'\n",
    "disp_all_y = disp_all_y[['hospital_code', 'year', 'disposition', 'count']]"
   ]
  },
  {
   "cell_type": "code",
   "execution_count": 60,
   "metadata": {},
   "outputs": [],
   "source": [
    "# Create dataframe that groups by hospital code and year and format to concantenate\n",
    "disp_h_y = admit_trans_detail.groupby(['hospital_code', 'year', 'disposition'])['date'].count().reset_index()\n",
    "disp_h_y = disp_h_y.rename(columns = {'date':\"count\"})\n",
    "disp_h_y = disp_h_y[['hospital_code', 'year', 'disposition', 'count']]"
   ]
  },
  {
   "cell_type": "code",
   "execution_count": 61,
   "metadata": {},
   "outputs": [
    {
     "data": {
      "text/html": [
       "<div>\n",
       "<style scoped>\n",
       "    .dataframe tbody tr th:only-of-type {\n",
       "        vertical-align: middle;\n",
       "    }\n",
       "\n",
       "    .dataframe tbody tr th {\n",
       "        vertical-align: top;\n",
       "    }\n",
       "\n",
       "    .dataframe thead th {\n",
       "        text-align: right;\n",
       "    }\n",
       "</style>\n",
       "<table border=\"1\" class=\"dataframe\">\n",
       "  <thead>\n",
       "    <tr style=\"text-align: right;\">\n",
       "      <th></th>\n",
       "      <th>hospital_code</th>\n",
       "      <th>year</th>\n",
       "      <th>disposition</th>\n",
       "      <th>count</th>\n",
       "    </tr>\n",
       "  </thead>\n",
       "  <tbody>\n",
       "    <tr>\n",
       "      <th>0</th>\n",
       "      <td>all</td>\n",
       "      <td>--</td>\n",
       "      <td>Admitted</td>\n",
       "      <td>227339</td>\n",
       "    </tr>\n",
       "    <tr>\n",
       "      <th>1</th>\n",
       "      <td>all</td>\n",
       "      <td>--</td>\n",
       "      <td>Transferred</td>\n",
       "      <td>20342</td>\n",
       "    </tr>\n",
       "    <tr>\n",
       "      <th>0</th>\n",
       "      <td>A</td>\n",
       "      <td>--</td>\n",
       "      <td>Admitted</td>\n",
       "      <td>14317</td>\n",
       "    </tr>\n",
       "    <tr>\n",
       "      <th>1</th>\n",
       "      <td>A</td>\n",
       "      <td>--</td>\n",
       "      <td>Transferred</td>\n",
       "      <td>1227</td>\n",
       "    </tr>\n",
       "    <tr>\n",
       "      <th>2</th>\n",
       "      <td>B</td>\n",
       "      <td>--</td>\n",
       "      <td>Admitted</td>\n",
       "      <td>3389</td>\n",
       "    </tr>\n",
       "  </tbody>\n",
       "</table>\n",
       "</div>"
      ],
      "text/plain": [
       "  hospital_code year  disposition   count\n",
       "0           all   --     Admitted  227339\n",
       "1           all   --  Transferred   20342\n",
       "0             A   --     Admitted   14317\n",
       "1             A   --  Transferred    1227\n",
       "2             B   --     Admitted    3389"
      ]
     },
     "execution_count": 61,
     "metadata": {},
     "output_type": "execute_result"
    }
   ],
   "source": [
    "# Concantenate disposition dataframes into one dataframe to pass to JS\n",
    "disposition = pd.concat([disp_all, disp_h, disp_all_y, disp_h_y], axis = 0)\n",
    "disposition.head()"
   ]
  },
  {
   "cell_type": "code",
   "execution_count": 62,
   "metadata": {},
   "outputs": [
    {
     "data": {
      "text/plain": [
       "<sqlite3.Cursor at 0x2e3aa269490>"
      ]
     },
     "execution_count": 62,
     "metadata": {},
     "output_type": "execute_result"
    }
   ],
   "source": [
    "#  Create views\n",
    "c = conn.cursor()\n",
    "\n",
    "c.execute('''DROP TABLE IF EXISTS wait_times_month ''')\n",
    "\n",
    "c.execute('''CREATE TABLE wait_times_month (\n",
    "    record_id INTEGER NOT NULL PRIMARY KEY,\n",
    "    hospital_code VARCHAR  NOT NULL,\n",
    "    year_month TEXT  NOT NULL,\n",
    "    mean_wait DECIMAL,\n",
    "    City VARCHAR,\n",
    "    Latitude DECIMAL,\n",
    "    Longitude DECIMAL)\n",
    "    ''')\n",
    "\n",
    "c.execute('''DROP TABLE IF EXISTS wait_times_day ''')\n",
    "\n",
    "c.execute('''CREATE TABLE wait_times_day (\n",
    "    record_id INTEGER NOT NULL PRIMARY KEY,\n",
    "    hospital_code VARCHAR  NOT NULL,\n",
    "    year_month TEXT  NOT NULL,\n",
    "    date TEXT   NOT NULL,\n",
    "    mean_wait DECIMAL,\n",
    "    City VARCHAR,\n",
    "    Latitude DECIMAL,\n",
    "    Longitude DECIMAL)\n",
    "    ''')\n",
    "\n",
    "c.execute('''DROP TABLE IF EXISTS admit_v_transfer ''')\n",
    "\n",
    "c.execute('''CREATE TABLE admit_v_transfer (\n",
    "    record_id INTEGER NOT NULL PRIMARY KEY,\n",
    "    hospital_code VARCHAR  NOT NULL,\n",
    "    year TEXT,\n",
    "    disposition TEXT   NOT NULL,\n",
    "    count DECIMAL   NOT NULL)\n",
    "    ''')\n"
   ]
  },
  {
   "cell_type": "code",
   "execution_count": 63,
   "metadata": {},
   "outputs": [],
   "source": [
    "# Use pandas to load DataFrame into database\n",
    "\n",
    "wait_time_month_location.to_sql('wait_times_month', con=engine, if_exists='append', index=False)\n",
    "wait_time_day_location.to_sql('wait_times_day', con=engine, if_exists='append', index=False)\n",
    "disposition.to_sql('admit_v_transfer', con=engine, if_exists='append', index=False)\n"
   ]
  },
  {
   "cell_type": "code",
   "execution_count": 64,
   "metadata": {},
   "outputs": [],
   "source": [
    "#  Close the connection\n",
    "conn.close()"
   ]
  }
 ],
 "metadata": {
  "kernelspec": {
   "display_name": "base",
   "language": "python",
   "name": "python3"
  },
  "language_info": {
   "codemirror_mode": {
    "name": "ipython",
    "version": 3
   },
   "file_extension": ".py",
   "mimetype": "text/x-python",
   "name": "python",
   "nbconvert_exporter": "python",
   "pygments_lexer": "ipython3",
   "version": "3.9.12 (main, Apr  4 2022, 05:22:27) [MSC v.1916 64 bit (AMD64)]"
  },
  "orig_nbformat": 4,
  "vscode": {
   "interpreter": {
    "hash": "6738137a61bb1c0a80ee07feed0254129f93089b9698ea4dbd3b17b92c6665ab"
   }
  }
 },
 "nbformat": 4,
 "nbformat_minor": 2
}
